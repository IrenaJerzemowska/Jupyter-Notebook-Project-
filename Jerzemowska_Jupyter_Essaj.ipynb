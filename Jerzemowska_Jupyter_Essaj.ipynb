{
 "cells": [
  {
   "cell_type": "markdown",
   "id": "43cdee41-6f00-4cbf-9cd9-9adf46d6aa32",
   "metadata": {},
   "source": [
    " # **Linguistic Analysis of Speech Patterns, characteristic for mental disorders**"
   ]
  },
  {
   "cell_type": "code",
   "execution_count": null,
   "id": "3bbbf080-e124-4753-b7a1-9171d7f7ee37",
   "metadata": {},
   "outputs": [],
   "source": [
    "import bs4"
   ]
  },
  {
   "cell_type": "markdown",
   "id": "b28f61fb-5e22-4a14-a3c8-1ec2f862864e",
   "metadata": {
    "tags": []
   },
   "source": [
    "## Table of Contents:\n",
    "   ### 1.Introduction\n",
    "   ### 2. Hannibal Lecter\n",
    "   ### 3. Patrick Bateman\n",
    "   ### 4. Conclusion"
   ]
  },
  {
   "cell_type": "code",
   "execution_count": 2,
   "id": "f6114893-b6d4-4178-9c56-ebc1ab440366",
   "metadata": {},
   "outputs": [
    {
     "name": "stdout",
     "output_type": "stream",
     "text": [
      "-----------------------------------------------------------------------------------\n"
     ]
    }
   ],
   "source": [
    "print(\"-----------------------------------------------------------------------------------\")"
   ]
  },
  {
   "cell_type": "markdown",
   "id": "2e51211a-b235-42b9-a502-8d699f4866ad",
   "metadata": {},
   "source": [
    "**1.INTRODUCTION**"
   ]
  },
  {
   "cell_type": "markdown",
   "id": "161a34cc-2a89-4b12-8c45-b4281a5cb4ee",
   "metadata": {},
   "source": [
    " Speech patterns is a representation of our manner of expression, our style of speaking, and somehow, a representation of the environment we live in, especially considering Chomsky’s approach to language, described in his book Syntactic Structures."
   ]
  },
  {
   "cell_type": "markdown",
   "id": "b9e03dda-fc49-4fe8-8fe7-a58fc463986b",
   "metadata": {},
   "source": [
    "Although all of us have a certain style of speaking, some people who suffer from certain mental disorders present a feature, which could be considered as a sign of their condition. In this essay, I am going to present and describe some of the most characteristic speech patterns, represented by famous psychopats described in literature from the thriller genre. "
   ]
  },
  {
   "cell_type": "markdown",
   "id": "c59696d5-0793-4451-9831-3f29a255b162",
   "metadata": {},
   "source": [
    "**2.Hannibal Lecter**"
   ]
  },
  {
   "cell_type": "code",
   "execution_count": 5,
   "id": "31f7438c-c7f5-443a-9a6f-dbfce5a5b3ae",
   "metadata": {},
   "outputs": [],
   "source": [
    "import requests\n",
    "page = requests.get(\"https://www.imdb.com/title/tt0102926/plotsummary\")\n",
    "# print(page.content)"
   ]
  },
  {
   "cell_type": "markdown",
   "id": "32ee5512-2207-4a2a-ae68-976a01ccde81",
   "metadata": {},
   "source": [
    "First book, which I would like to describe is considered to be one of the true classic in the genre of thriller. It is The Silence of the Lambs by Thomas Harris. In this book, the main character, a young student named Clarice Starling is asked to help with the investigation concerning crimes done by a murderer Buffalo Bill. In order to find any kind of evidence, Starling goes to a prison, in order to question another murderer  - doctor Hannibal Lecter. Lecter is a well - educated man, who earned a doctorate in psychiatry and (before being sentenced for his crimes) was considered to be one of the best in his field. His taste is quite sophisticated, due to the variety of expensive and exquisite dishes he cooks and his love for classical music and art. Besides that, he really enjoyed cooking, which included also cooking his victims. His cold blooded murders were the reason why he went to jail. However, his crimes, although scary, are not the topic of that essay. Hannibal’s language and the way he speaks resembles his character - his speech is sophisticated, usually includes vocabulary from foreign languages, especially French and Italian, and, generally speaking - it’s very posh;"
   ]
  },
  {
   "cell_type": "markdown",
   "id": "c7747b99-b7ac-4e12-8035-8b093f1fec3c",
   "metadata": {},
   "source": [
    ">First principles, Clarice. Simplicity. Read Marcus Aurelius. Of each particular thing ask: what is it in itself? What is its nature? What does he do, this man you seek?"
   ]
  },
  {
   "cell_type": "code",
   "execution_count": null,
   "id": "275482e6-8db5-4be7-a7c6-842421b26e08",
   "metadata": {},
   "outputs": [],
   "source": [
    ">First principles, Clarice. Simplicity. Read Marcus Aurelius. Of each particular thing ask: what is it in itself? What is its nature? What does he do, this man you seek"
   ]
  },
  {
   "cell_type": "markdown",
   "id": "6a6b74d3-2de2-4ce5-8b66-3dd3e7c62996",
   "metadata": {},
   "source": [
    ">I see. I myself cannot. You use Evyan skin cream, and sometimes you wear L'Air du Temps, but not today."
   ]
  },
  {
   "cell_type": "code",
   "execution_count": 10,
   "id": "0c2ff8db-7895-418d-9554-a817aa9b213c",
   "metadata": {},
   "outputs": [
    {
     "name": "stdout",
     "output_type": "stream",
     "text": [
      "[]\n"
     ]
    }
   ],
   "source": [
    "from bs4 import BeautifulSoup \n",
    "content = BeautifulSoup(page.content,'html.parser')\n",
    "paragraphs = content.find_all('p')\n",
    "print(paragraphs[9:11])"
   ]
  },
  {
   "cell_type": "markdown",
   "id": "d58fe369-ae6d-4b4c-a5b3-245861fb8ee4",
   "metadata": {},
   "source": [
    "From the quotes cited above, what we can conclude from Hannibal’s style of speaking is that he represents some sass in his speech, especially when it comes to bragging about his intellectual achievements and/or everyday routines. It can suggests some mental problems, which could be unknowingly represented by Hannibal’s speech. "
   ]
  },
  {
   "cell_type": "markdown",
   "id": "508a36bf-5822-4445-836b-766c1f038064",
   "metadata": {},
   "source": [
    "The diagnosis of Lecter has been described in a paper titled [Hannibal Lecter: the Honey in the Lion’s Mouth](https://pubmed.ncbi.nlm.nih.gov/11977779/) by Bettina Gregory."
   ]
  },
  {
   "cell_type": "markdown",
   "id": "aea2fdb3-4ff6-4541-a40a-fafcc41ac1dd",
   "metadata": {},
   "source": [
    "Gregory suggests that Hannibal might suffer from PTS, which is a posttraumatic stress disorder caused by a traumatic childhood. However, that is not only one diagnosis he received. Other proposed diagnosis are: Wendigo psychosis, which is a disorder which is strongly related to cannibalism, but not as a mean to survive, but as a way of enjoying ‘food’ in general,OCD, which is an obssesive compulsive disorder, characterised by obssessive thoughts about something and certain behaviours triggered by an external factor, and Antisocial Personality Disorder, which is a disorder in which a person does not show empathy for others, lack of remorse, and strong tendencies to manipulate and lie."
   ]
  },
  {
   "cell_type": "markdown",
   "id": "004338e3-c2cf-428e-8c29-5f154ca33a56",
   "metadata": {},
   "source": [
    "According to [inc.com](https://www.inc.com/amy-morin/are-you-talking-to-a-psychopath-9-subtle-things-to-look-for-according-to-science.html), we can find 9 ways of speaking, which are characteristic for sociopaths (people suffering from antisocial personality disorder), which are: "
   ]
  },
  {
   "cell_type": "code",
   "execution_count": 13,
   "id": "4f9c1e9b-9528-44da-bc15-5e407b759fcf",
   "metadata": {},
   "outputs": [],
   "source": [
    "ways_of_speaking = ['speaking in past tense', 'convincing body language', 'lack of emotional dispension in their speech', 'charming way of speaking','slow and quiet manner of speaking', 'perception of life as a cycle of cause and effect','attention focused on basic needs and everyday rituals','more than usual use of hedges and discourse markers','great storytelling skills']"
   ]
  },
  {
   "cell_type": "markdown",
   "id": "45133eaf-50a4-4f36-9475-8da7c9d76b1b",
   "metadata": {},
   "source": [
    "Considering the ways mentioned above, we can spot at least some of them in two sentences said by Hannibal, which are cited above, due to the fact that in the second sentence, he describes his beauty routine, which could be an element of his everyday, basic routine. Moreover, in the first one, by mentioning Marcus Aurelius, he probably tried to show off in front of a young policewoman, in order to gain her trust and sympathy.  "
   ]
  },
  {
   "cell_type": "markdown",
   "id": "70ff77be-9af1-455c-87d8-6d0fc11db560",
   "metadata": {},
   "source": [
    "## *2.Patrick Bateman*"
   ]
  },
  {
   "cell_type": "markdown",
   "id": "1a093638-4ff5-410a-bba4-1e6bbfbaad35",
   "metadata": {},
   "source": [
    " Other case, which I would like to analyse is Patrick Bateman from another classic in the genre of thrillers, which is titled American Psycho."
   ]
  },
  {
   "cell_type": "markdown",
   "id": "952b89d9-bf13-406e-8b53-6f9ef4fb1bd2",
   "metadata": {},
   "source": [
    "Patrick Bateman is a young and successful lawyer, who lives a perfect lifestyle. However, he has a dark secret - namely, a bunch of tapes in his wardrobe, and on each of those tapes are murders he commited. Every crime he commits is driven by his anger, especially one, when he kills his co-worker Paul Allen, only because of his jellousy. Patrick’s way of speaking (as well as Hannibal’) was masterly played by Christian Bale (the role of Hannibal was played by Anthony Hopkins in Silence of the Lambs and by Mads Mikkelsen in TV series titled Hannibal). Similarly to Lecter, Bateman’s taste is rather extravagant - he often wears luxorious and designer clothes, listens to music almost obessively and eats extravagant and gourmet dishes at quite expensive restaurants. In contrast to Hannibal, however, he speaks truly and candidly about how he feels and what happens to him, when he reaches his breakdown:"
   ]
  },
  {
   "cell_type": "markdown",
   "id": "34a6316e-ca3f-47b6-8a6c-817abafc40a7",
   "metadata": {},
   "source": [
    "[!sir Anthony Hopkins as Hannibal Lecter](https://bi.im-g.pl/im/87/af/17/z24834439AMP,Niezapomniana-rola-Anthony-ego-Hopkinsa-w--Milczen.jpg)"
   ]
  },
  {
   "cell_type": "markdown",
   "id": "bef23d17-8437-4204-93a3-c8a6bb0724f5",
   "metadata": {},
   "source": [
    "[!Mads Mikkelsen as Hannibal Lecter](https://sm.ign.com/ign_pl/screenshot/default/hannibal1-2553735b_4r6b.jpg)"
   ]
  },
  {
   "cell_type": "markdown",
   "id": "930c6ce3-7b22-4445-bbc6-c02452cc9c8f",
   "metadata": {},
   "source": [
    "[!Christian Bale as Patrick Bateman](https://www.denofgeek.com/wp-content/uploads/2020/04/Christian-Bale-with-an-Axe-in-American-Psycho.jpg?fit=1300%2C755)"
   ]
  },
  {
   "cell_type": "markdown",
   "id": "dac9e4e2-7f5e-4f7d-b12e-f30ff635798e",
   "metadata": {},
   "source": [
    ">I have all the characteristics of a human being: blood, flesh, skin, hair, but not a single, clear, identifiable emotion, except for greed and disgust. Something horrible is happening inside of me and I don’t know why. My nightly bloodlust has overflown into my days."
   ]
  },
  {
   "cell_type": "markdown",
   "id": "591e214f-bb94-4b2d-b7f8-266e0fdea4b8",
   "metadata": {},
   "source": [
    "Although he expressed his emotions candidly, that was unfortunately one of not - so - many occasions, where Bateman truly and not in a sarcastic tone spoke about his controversial hobbies. Another example shows how he mocked that his answer to a club bouncer was understood as a sarcasm, but actually he spoke the truth:"
   ]
  },
  {
   "cell_type": "markdown",
   "id": "42f24313-6c55-497f-92a1-218c04a40548",
   "metadata": {},
   "source": [
    ">Club Patron: So, what do you do?\n",
    "\n",
    ">Patrick Bateman: I;m into, uh, well, murders and executions, mostly.\n",
    "\n",
    ">Club Patron: [sarcastically] do you like it?"
   ]
  },
  {
   "cell_type": "markdown",
   "id": "4039f9b7-d344-484f-b3fd-8a850e7f1e73",
   "metadata": {},
   "source": [
    ">Patrick Bateman: Well, most guys I know who are in Mergers and Acquisitions really don’t like it. But I like to dissect girls. Did you know I’m utterly insane?"
   ]
  },
  {
   "cell_type": "markdown",
   "id": "93cde069-287e-4a8d-8920-7526ca073bfe",
   "metadata": {},
   "source": [
    "The other example, which displays Patrick way of speaking is in the situation, where he invited drunk Paul Allen to his apartment. This dialogue happend just before the murder of Paul Allen:"
   ]
  },
  {
   "cell_type": "markdown",
   "id": "53e46756-3446-4839-97b4-ed4e2b708ec1",
   "metadata": {},
   "source": [
    ">Patrick Bateman: Do you like Huey Lewis and The News?\n",
    "\n",
    ">Paul Allen: They’re OK.\n",
    "\n",
    ">Patrick Bateman: Their early work was a little too new wave for my tastes, but when Sports came out in ‘83, I think they really came into their own, commercially and artistically. The whole album has a clear, crisp sound, and a new sheen of consummate professionalism that really gives the songs a big boost. He’s been compared to Elvis Costello, but I think Huey has a far more bitter, cynical sense of humor."
   ]
  },
  {
   "cell_type": "markdown",
   "id": "51f26095-ea95-475b-9da8-f3c910ddabe1",
   "metadata": {},
   "source": [
    "Here is the link to the iconic scene with [Patrick's speech](https://www.youtube.com/watch?v=Ruw9fsh3PNY). Viewer discretion is advised. This clip is drastic and it contains blood and murder. Please, consider it before watching. "
   ]
  },
  {
   "cell_type": "markdown",
   "id": "20014d3f-6e51-4108-b3f5-02900c83466e",
   "metadata": {},
   "source": [
    "Patrick Bateman’s speech also displays characteristic traits of sociopaths, but also of OCD, especially considering [his description of his morning routine](https://www.youtube.com/watch?v=RjKNbfA64EE):"
   ]
  },
  {
   "cell_type": "markdown",
   "id": "3ec42d64-e2e5-463a-b8c8-7718a2dc0b33",
   "metadata": {},
   "source": [
    ">I live in the American Gardens building on West 81st street. My name is Patrick Bateman. I’m 27 years old. I believe in taking care of mysel, and a balanced diet and  rigorous exercise routine. In the morning, if my face is a little puffy, I will put on an ice pack while doing my stomach crunches. I can do a thousand now. After I remove the ice pack, I use a deep pore cleanser lotion. In the shower, I use a water activated gel cleanser. Then a honey almond body scrub. And on the face, an exfoliating gel scrub. Then apply an herb mint facial mask, which I leave on for 10 minutes while I prepare the rest of my routine. I always use an aftershave lotion with little or no alcohol, because alcohol dries your face out and makes you look older. Then moisturizer, then an anti-aging eye balm followed by a final moisturizing protective lotion. There is an idea of a Patrick Bateman, some kind of abstraction, but there is no real me. Only an entity, something illusory. And though I can hide my cold gaze, and you can shake my hand and feel flesh gripping yours and maybe you can even sense our life styles are probably comparable, I simply am not there."
   ]
  },
  {
   "cell_type": "markdown",
   "id": "86b57226-3ba6-45f1-86ae-cacc50f6df48",
   "metadata": {},
   "source": [
    "Patrick’s way of describing his morning routine contains a detailed description of his basic morning. What is unusual, is the fact that he mentions exactly what kind of products he uses and exact times in which he applies some of his skincare products. Moreover, his claim that there is no real Patrick, may suggest that his complicated routine may be some kind of preparation process for another day of being someone else. "
   ]
  },
  {
   "cell_type": "markdown",
   "id": "d24498ae-d1a0-46bf-9133-2fc03322584a",
   "metadata": {},
   "source": [
    "## 4.CONCLUSION "
   ]
  },
  {
   "cell_type": "markdown",
   "id": "0b07b918-5b21-456e-98c1-463d5b5b7b8c",
   "metadata": {},
   "source": [
    "To conclude, I would like to mention that I am not a qualified psychologist or psychiatrist, hence I do not have a proper knowledge to diagnose people. This essay is only a form of speculation which is focused on two of many of my favourite characters from two of a bunch of my favourite books. However, I do believe that there could be some ways in which we can spot some characteristics of speech, which could be associated with certain mental disorders, which would eventually lead to speeding up the process of diagnosing patients.  "
   ]
  },
  {
   "cell_type": "code",
   "execution_count": null,
   "id": "aad86b12-dee3-438a-86bc-e6bb2e9a1998",
   "metadata": {},
   "outputs": [],
   "source": []
  }
 ],
 "metadata": {
  "kernelspec": {
   "display_name": "Python 3 (ipykernel)",
   "language": "python",
   "name": "python3"
  },
  "language_info": {
   "codemirror_mode": {
    "name": "ipython",
    "version": 3
   },
   "file_extension": ".py",
   "mimetype": "text/x-python",
   "name": "python",
   "nbconvert_exporter": "python",
   "pygments_lexer": "ipython3",
   "version": "3.9.12"
  }
 },
 "nbformat": 4,
 "nbformat_minor": 5
}
